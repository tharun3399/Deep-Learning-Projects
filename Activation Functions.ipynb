{
 "cells": [
  {
   "cell_type": "markdown",
   "id": "d87dfe41",
   "metadata": {},
   "source": [
    "# Activation Functions"
   ]
  },
  {
   "cell_type": "code",
   "execution_count": 1,
   "id": "99e42f33",
   "metadata": {},
   "outputs": [
    {
     "name": "stdout",
     "output_type": "stream",
     "text": [
      "0.9820137900379085\n",
      "-0.964027580075817\n",
      "0\n",
      "23\n",
      "-0.4\n"
     ]
    }
   ],
   "source": [
    "import math\n",
    "\n",
    "def sigmoid(z): #Converts value from 0 to 1 \n",
    "    return 1/(1+math.exp(-z)) \n",
    "def tanh(z):    #Converts value from -1 to 1  \n",
    "    return (math.exp(z)-math.exp(-z))/(math.exp(z)+math.exp(-z))\n",
    "def step(z):\n",
    "    return z>=0\n",
    "def relu(z):\n",
    "    return max(0,z)\n",
    "def leaky_relu(z):\n",
    "    return max(0.1*z,z)\n",
    "print(sigmoid(4))\n",
    "print(tanh(-2))\n",
    "print(int(step(-2)))\n",
    "print(relu(23))\n",
    "print(leaky_relu(-4))"
   ]
  }
 ],
 "metadata": {
  "kernelspec": {
   "display_name": "Python 3 (ipykernel)",
   "language": "python",
   "name": "python3"
  },
  "language_info": {
   "codemirror_mode": {
    "name": "ipython",
    "version": 3
   },
   "file_extension": ".py",
   "mimetype": "text/x-python",
   "name": "python",
   "nbconvert_exporter": "python",
   "pygments_lexer": "ipython3",
   "version": "3.11.5"
  }
 },
 "nbformat": 4,
 "nbformat_minor": 5
}
